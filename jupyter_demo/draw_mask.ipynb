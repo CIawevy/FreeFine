{
 "cells": [
  {
   "metadata": {},
   "cell_type": "code",
   "outputs": [],
   "execution_count": null,
   "source": [
    "import gradio as gr\n",
    "import numpy as np\n",
    "import cv2\n",
    "from PIL import Image\n",
    "\"\"\"\n",
    "Simplest UI for you to draw a mask based on your DIY image\n",
    "\"\"\"\n",
    "\n",
    "\n",
    "def process_drawing(drawing,save_img_path):\n",
    "    # 将绘制的图像转换为灰度图像\n",
    "    mask = drawing[\"mask\"].convert(\"L\")\n",
    "    # 将灰度图像转换为numpy数组\n",
    "    mask_array = np.asarray(mask)\n",
    "    # 将灰度值大于128的区域设为1，其余为0\n",
    "    mask_array = np.where(mask_array > 128, 1, 0).astype(np.uint8)\n",
    "\n",
    "    # 创建单通道掩膜图像并保存，确保是L模式（单通道灰度图）\n",
    "    mask_image = Image.fromarray(mask_array * 255, mode=\"L\")  # 使用 \"L\" 模式来确保单通道\n",
    "    mask_image.save(save_img_path)  # 保存为PNG格式（单通道）\n",
    "\n",
    "    # 返回处理后的掩膜图像（单通道）\n",
    "    return mask_image\n",
    "\n",
    "\n",
    "def create_ui(image_path,save_img_path):\n",
    "    with gr.Blocks() as demo:  # 显示原始图像\n",
    "        # 创建绘图区域，启用图像编辑\n",
    "        drawing = gr.Image(value=image_path, label=\"Draw the Mask\", type=\"pil\", interactive=True, tool=\"sketch\",\n",
    "                           height=512, width=512, brush_color='#FFFFFF', mask_opacity=0.5, brush_radius=30)\n",
    "\n",
    "        # 创建保存按钮\n",
    "        save_button = gr.Button(\"Process\")\n",
    "\n",
    "        # 定义保存按钮的行为：处理绘制的图像\n",
    "        save_button.click(process_drawing, inputs=[drawing,save_img_path], outputs=[gr.Image(type=\"pil\", label=\"Processed Mask\")])\n",
    "\n",
    "    return demo\n",
    "\n",
    "\n",
    "\n",
    "# 创建并启动 Gradio UI 绘制掩码\n",
    "ori_img_path = 'your_img_path'\n",
    "save_img_path = 'your_save_path'\n",
    "ui = create_ui(ori_img_path,save_img_path ) #Replace with your img path\n",
    "ui.launch()"
   ],
   "id": "fc0d298631387a7"
  }
 ],
 "metadata": {
  "kernelspec": {
   "display_name": "Python 3",
   "language": "python",
   "name": "python3"
  },
  "language_info": {
   "codemirror_mode": {
    "name": "ipython",
    "version": 2
   },
   "file_extension": ".py",
   "mimetype": "text/x-python",
   "name": "python",
   "nbconvert_exporter": "python",
   "pygments_lexer": "ipython2",
   "version": "2.7.6"
  }
 },
 "nbformat": 4,
 "nbformat_minor": 5
}
